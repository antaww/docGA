{
 "cells": [
  {
   "cell_type": "markdown",
   "source": [
    "# 1. Description Mathématique et Pratique de l'Algorithme Génétique (GA)\n",
    "## Comment fonctionne-t-il ?\n",
    "\n",
    "Un algorithme génétique (GA) est une méthode d'optimisation et de recherche inspirée des principes de la sélection naturelle et de la génétique. Voici les étapes clés de son fonctionnement :\n",
    "\n",
    "1. Initialisation\n",
    "    - Génération aléatoire d'une population initiale de solutions potentielles, appelées individus ou chromosomes. Chaque individu est représenté par un vecteur de variables (appelées gènes), généralement encodées sous forme binaire ou réelle.\n",
    "    - Formule : \n",
    "      - ![img.png](imgs/part1/img.png) \n",
    "      - où P(0) est la population initiale, Xi(0) est le ième individu de la population initiale, et N est la taille de la population.\n",
    "\n",
    "2. Évaluation\n",
    "    - Évaluation de chaque individu en utilisant une fonction de fitness qui mesure leur qualité par rapport au problème à résoudre. La fonction de fitness f(x) attribue une valeur de performance à chaque individu.\n",
    "   - Formule : \n",
    "     - ![img_1.png](imgs/part1/img_1.png)\n",
    "     - où fi est la valeur de fitness de l'individu Xi.\n",
    "\n",
    "3. Sélection\n",
    "    - Sélection des individus les plus aptes pour reproduire. Les méthodes courantes incluent la roulette, le tournoi, et la sélection par rang. La probabilité de sélection est généralement proportionnelle à la valeur de fitness.\n",
    "    - Formule de sélection par roulette :\n",
    "      - ![img_2.png](imgs/part1/img_2.png)\n",
    "\n",
    "4. Croisement (Crossover)\n",
    "    - Combinaison de paires d'individus pour créer une nouvelle génération. Des points de croisement sont choisis aléatoirement, et les segments de gènes sont échangés entre les parents pour produire des enfants.\n",
    "    - Formule de croisement à un point :\n",
    "      - ![img_3.png](imgs/part1/img_3.png)\n",
    "\n",
    "5. Mutation\n",
    "    - Modification aléatoire de certains individus pour introduire de la diversité. Cela évite la convergence prématurée vers des solutions sous-optimales.\n",
    "    - Formule de mutation binaire :\n",
    "      - ![img_4.png](imgs/part1/img_4.png)\n",
    "      - avec probabilité de mutation Pm, où xij est le jème gène de l'individu Xi.\n",
    "\n",
    "6. Répétition\n",
    "    - Répéter les étapes 2 à 5 jusqu'à ce qu'un critère d'arrêt soit atteint (par exemple, un nombre fixe de générations ou une solution satisfaisante).\n",
    "   - Critère d'arrêt :\n",
    "     - Génération finale Gf \n",
    "     - Convergence de la population\n",
    "\n",
    "## Paramètres de l'algorithme génétique\n",
    "\n",
    "Les paramètres clés d'un GA incluent :\n",
    "\n",
    "* Taille de la population (N) : Le nombre d'individus dans la population. Une plus grande taille peut explorer plus largement l'espace de recherche, mais augmente le coût de calcul.\n",
    "* Probabilité de croisement (P_c) : La proportion de paires de parents qui subissent le croisement. Typiquement, 0.6 ≤ Pc ≤ 0.9.\n",
    "* Probabilité de mutation (P_m) : La proportion de gènes individuels qui subissent une mutation. Typiquement, 0.01 ≤ Pm ≤ 0.1.\n",
    "* Fonction de fitness (f(x)) : La fonction qui évalue la qualité des solutions. Elle dépend du problème spécifique à résoudre.\n",
    "* Critères d'arrêt : Les conditions qui déterminent quand arrêter l'algorithme. Cela peut être un nombre fixe de générations, la convergence des valeurs de fitness, ou l'obtention d'une solution satisfaisante."
   ],
   "metadata": {
    "collapsed": false
   },
   "id": "df1effda1a8b7bce"
  },
  {
   "cell_type": "markdown",
   "source": [
    "# 2. Avantages et Inconvénients des Algorithmes Génétiques"
   ],
   "metadata": {
    "collapsed": false
   },
   "id": "29d085bd8490303f"
  }
 ],
 "metadata": {
  "kernelspec": {
   "display_name": "Python 3",
   "language": "python",
   "name": "python3"
  },
  "language_info": {
   "codemirror_mode": {
    "name": "ipython",
    "version": 2
   },
   "file_extension": ".py",
   "mimetype": "text/x-python",
   "name": "python",
   "nbconvert_exporter": "python",
   "pygments_lexer": "ipython2",
   "version": "2.7.6"
  }
 },
 "nbformat": 4,
 "nbformat_minor": 5
}
